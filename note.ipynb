{
 "cells": [
  {
   "cell_type": "code",
   "execution_count": 1,
   "id": "56b8dcc7-9021-4066-a73f-a3b85a34c39b",
   "metadata": {},
   "outputs": [],
   "source": [
    "import pandas as pd  \n",
    "import numpy as np  \n",
    "import matplotlib.pyplot as plt  \n",
    "import seaborn as sns \n",
    "from sklearn.model_selection import train_test_split \n",
    "from sklearn.linear_model import LinearRegression\n",
    "from sklearn import metrics\n",
    "%matplotlib inline"
   ]
  },
  {
   "cell_type": "code",
   "execution_count": 2,
   "id": "65fb62e8-8d9b-4955-bd5a-15dd74148908",
   "metadata": {},
   "outputs": [
    {
     "name": "stderr",
     "output_type": "stream",
     "text": [
      "/tmp/ipykernel_42312/1186252275.py:1: DtypeWarning: Columns (35) have mixed types. Specify dtype option on import or set low_memory=False.\n",
      "  dataset = pd.read_csv('sold_flats_2020-09-30.csv', parse_dates=['date_sold'], date_format='%Y-%m-%d')\n"
     ]
    }
   ],
   "source": [
    "dataset = pd.read_csv('sold_flats_2020-09-30.csv', parse_dates=['date_sold'], date_format='%Y-%m-%d')"
   ]
  },
  {
   "cell_type": "code",
   "execution_count": 3,
   "id": "52fe51e4-a7dc-4f04-996b-4b479b3bd342",
   "metadata": {},
   "outputs": [
    {
     "data": {
      "text/plain": [
       "(71761, 38)"
      ]
     },
     "execution_count": 3,
     "metadata": {},
     "output_type": "execute_result"
    }
   ],
   "source": [
    "dataset.shape"
   ]
  },
  {
   "cell_type": "code",
   "execution_count": 4,
   "id": "7ad687c1-79ea-4be9-9663-7ba07c318805",
   "metadata": {},
   "outputs": [
    {
     "data": {
      "text/html": [
       "<div>\n",
       "<style scoped>\n",
       "    .dataframe tbody tr th:only-of-type {\n",
       "        vertical-align: middle;\n",
       "    }\n",
       "\n",
       "    .dataframe tbody tr th {\n",
       "        vertical-align: top;\n",
       "    }\n",
       "\n",
       "    .dataframe thead th {\n",
       "        text-align: right;\n",
       "    }\n",
       "</style>\n",
       "<table border=\"1\" class=\"dataframe\">\n",
       "  <thead>\n",
       "    <tr style=\"text-align: right;\">\n",
       "      <th></th>\n",
       "      <th>id</th>\n",
       "      <th>city_id</th>\n",
       "      <th>district_id</th>\n",
       "      <th>street_id</th>\n",
       "      <th>price</th>\n",
       "      <th>date_sold</th>\n",
       "      <th>sold_price</th>\n",
       "      <th>metro_station_id</th>\n",
       "      <th>flat_on_floor</th>\n",
       "      <th>floor_num</th>\n",
       "      <th>...</th>\n",
       "      <th>area_kitchen</th>\n",
       "      <th>builder_id</th>\n",
       "      <th>levels_count</th>\n",
       "      <th>bathrooms_cnt</th>\n",
       "      <th>series_id</th>\n",
       "      <th>wall_id</th>\n",
       "      <th>loggia</th>\n",
       "      <th>ceiling_height</th>\n",
       "      <th>longitude</th>\n",
       "      <th>latitude</th>\n",
       "    </tr>\n",
       "  </thead>\n",
       "  <tbody>\n",
       "    <tr>\n",
       "      <th>count</th>\n",
       "      <td>7.176100e+04</td>\n",
       "      <td>71761.000000</td>\n",
       "      <td>71761.000000</td>\n",
       "      <td>71761.000000</td>\n",
       "      <td>7.175100e+04</td>\n",
       "      <td>71761</td>\n",
       "      <td>7.162100e+04</td>\n",
       "      <td>71756.000000</td>\n",
       "      <td>71761.000000</td>\n",
       "      <td>71755.000000</td>\n",
       "      <td>...</td>\n",
       "      <td>71758.000000</td>\n",
       "      <td>71761.000000</td>\n",
       "      <td>71761.000000</td>\n",
       "      <td>40630.000000</td>\n",
       "      <td>71560.000000</td>\n",
       "      <td>71755.000000</td>\n",
       "      <td>71761.0</td>\n",
       "      <td>71761.000000</td>\n",
       "      <td>65190.000000</td>\n",
       "      <td>65190.000000</td>\n",
       "    </tr>\n",
       "    <tr>\n",
       "      <th>mean</th>\n",
       "      <td>1.050444e+06</td>\n",
       "      <td>145.716225</td>\n",
       "      <td>5944.203871</td>\n",
       "      <td>19914.021070</td>\n",
       "      <td>5.105253e+03</td>\n",
       "      <td>2016-06-04 06:52:10.090160384</td>\n",
       "      <td>1.118452e+04</td>\n",
       "      <td>13.962986</td>\n",
       "      <td>0.213013</td>\n",
       "      <td>5.002341</td>\n",
       "      <td>...</td>\n",
       "      <td>3.890242</td>\n",
       "      <td>20.567174</td>\n",
       "      <td>0.987389</td>\n",
       "      <td>1.836303</td>\n",
       "      <td>385.921940</td>\n",
       "      <td>24.482893</td>\n",
       "      <td>0.0</td>\n",
       "      <td>1.728359</td>\n",
       "      <td>67.655915</td>\n",
       "      <td>56.096918</td>\n",
       "    </tr>\n",
       "    <tr>\n",
       "      <th>min</th>\n",
       "      <td>8.666800e+04</td>\n",
       "      <td>23.000000</td>\n",
       "      <td>-1.000000</td>\n",
       "      <td>-1.000000</td>\n",
       "      <td>0.000000e+00</td>\n",
       "      <td>2014-01-03 00:00:00</td>\n",
       "      <td>0.000000e+00</td>\n",
       "      <td>-1.000000</td>\n",
       "      <td>0.000000</td>\n",
       "      <td>0.000000</td>\n",
       "      <td>...</td>\n",
       "      <td>0.000000</td>\n",
       "      <td>0.000000</td>\n",
       "      <td>0.000000</td>\n",
       "      <td>0.000000</td>\n",
       "      <td>0.000000</td>\n",
       "      <td>0.000000</td>\n",
       "      <td>0.0</td>\n",
       "      <td>0.000000</td>\n",
       "      <td>0.000000</td>\n",
       "      <td>0.000000</td>\n",
       "    </tr>\n",
       "    <tr>\n",
       "      <th>25%</th>\n",
       "      <td>6.233500e+05</td>\n",
       "      <td>23.000000</td>\n",
       "      <td>781.000000</td>\n",
       "      <td>1704.000000</td>\n",
       "      <td>1.680000e+03</td>\n",
       "      <td>2015-07-06 00:00:00</td>\n",
       "      <td>1.650000e+03</td>\n",
       "      <td>0.000000</td>\n",
       "      <td>0.000000</td>\n",
       "      <td>2.000000</td>\n",
       "      <td>...</td>\n",
       "      <td>0.000000</td>\n",
       "      <td>0.000000</td>\n",
       "      <td>1.000000</td>\n",
       "      <td>2.000000</td>\n",
       "      <td>44.000000</td>\n",
       "      <td>11.000000</td>\n",
       "      <td>0.0</td>\n",
       "      <td>0.000000</td>\n",
       "      <td>60.581003</td>\n",
       "      <td>55.022510</td>\n",
       "    </tr>\n",
       "    <tr>\n",
       "      <th>50%</th>\n",
       "      <td>1.063860e+06</td>\n",
       "      <td>85.000000</td>\n",
       "      <td>2617.000000</td>\n",
       "      <td>5855.000000</td>\n",
       "      <td>2.300000e+03</td>\n",
       "      <td>2016-08-26 00:00:00</td>\n",
       "      <td>2.270000e+03</td>\n",
       "      <td>0.000000</td>\n",
       "      <td>0.000000</td>\n",
       "      <td>4.000000</td>\n",
       "      <td>...</td>\n",
       "      <td>0.000000</td>\n",
       "      <td>0.000000</td>\n",
       "      <td>1.000000</td>\n",
       "      <td>2.000000</td>\n",
       "      <td>49.000000</td>\n",
       "      <td>12.000000</td>\n",
       "      <td>0.0</td>\n",
       "      <td>2.500000</td>\n",
       "      <td>65.594948</td>\n",
       "      <td>57.105932</td>\n",
       "    </tr>\n",
       "    <tr>\n",
       "      <th>75%</th>\n",
       "      <td>1.451350e+06</td>\n",
       "      <td>184.000000</td>\n",
       "      <td>9434.000000</td>\n",
       "      <td>35066.000000</td>\n",
       "      <td>3.200000e+03</td>\n",
       "      <td>2017-06-16 00:00:00</td>\n",
       "      <td>3.125000e+03</td>\n",
       "      <td>0.000000</td>\n",
       "      <td>0.000000</td>\n",
       "      <td>7.000000</td>\n",
       "      <td>...</td>\n",
       "      <td>8.000000</td>\n",
       "      <td>0.000000</td>\n",
       "      <td>1.000000</td>\n",
       "      <td>2.000000</td>\n",
       "      <td>149.000000</td>\n",
       "      <td>12.000000</td>\n",
       "      <td>0.0</td>\n",
       "      <td>2.500000</td>\n",
       "      <td>73.409263</td>\n",
       "      <td>57.192562</td>\n",
       "    </tr>\n",
       "    <tr>\n",
       "      <th>max</th>\n",
       "      <td>1.947471e+06</td>\n",
       "      <td>1347.000000</td>\n",
       "      <td>44581.000000</td>\n",
       "      <td>152940.000000</td>\n",
       "      <td>8.400000e+06</td>\n",
       "      <td>2017-12-31 00:00:00</td>\n",
       "      <td>4.219500e+07</td>\n",
       "      <td>70388.000000</td>\n",
       "      <td>309.000000</td>\n",
       "      <td>27.000000</td>\n",
       "      <td>...</td>\n",
       "      <td>101.100000</td>\n",
       "      <td>3597.000000</td>\n",
       "      <td>3.000000</td>\n",
       "      <td>4.000000</td>\n",
       "      <td>2341.000000</td>\n",
       "      <td>412.000000</td>\n",
       "      <td>0.0</td>\n",
       "      <td>2500.000000</td>\n",
       "      <td>634.226370</td>\n",
       "      <td>633.813000</td>\n",
       "    </tr>\n",
       "    <tr>\n",
       "      <th>std</th>\n",
       "      <td>4.645742e+05</td>\n",
       "      <td>191.871648</td>\n",
       "      <td>6927.366017</td>\n",
       "      <td>23669.915644</td>\n",
       "      <td>8.034098e+04</td>\n",
       "      <td>NaN</td>\n",
       "      <td>3.166649e+05</td>\n",
       "      <td>633.300903</td>\n",
       "      <td>2.785098</td>\n",
       "      <td>3.593269</td>\n",
       "      <td>...</td>\n",
       "      <td>5.231731</td>\n",
       "      <td>168.303157</td>\n",
       "      <td>0.119082</td>\n",
       "      <td>0.594474</td>\n",
       "      <td>608.829097</td>\n",
       "      <td>45.066015</td>\n",
       "      <td>0.0</td>\n",
       "      <td>9.895911</td>\n",
       "      <td>20.057081</td>\n",
       "      <td>7.577124</td>\n",
       "    </tr>\n",
       "  </tbody>\n",
       "</table>\n",
       "<p>8 rows × 26 columns</p>\n",
       "</div>"
      ],
      "text/plain": [
       "                 id       city_id   district_id      street_id         price  \\\n",
       "count  7.176100e+04  71761.000000  71761.000000   71761.000000  7.175100e+04   \n",
       "mean   1.050444e+06    145.716225   5944.203871   19914.021070  5.105253e+03   \n",
       "min    8.666800e+04     23.000000     -1.000000      -1.000000  0.000000e+00   \n",
       "25%    6.233500e+05     23.000000    781.000000    1704.000000  1.680000e+03   \n",
       "50%    1.063860e+06     85.000000   2617.000000    5855.000000  2.300000e+03   \n",
       "75%    1.451350e+06    184.000000   9434.000000   35066.000000  3.200000e+03   \n",
       "max    1.947471e+06   1347.000000  44581.000000  152940.000000  8.400000e+06   \n",
       "std    4.645742e+05    191.871648   6927.366017   23669.915644  8.034098e+04   \n",
       "\n",
       "                           date_sold    sold_price  metro_station_id  \\\n",
       "count                          71761  7.162100e+04      71756.000000   \n",
       "mean   2016-06-04 06:52:10.090160384  1.118452e+04         13.962986   \n",
       "min              2014-01-03 00:00:00  0.000000e+00         -1.000000   \n",
       "25%              2015-07-06 00:00:00  1.650000e+03          0.000000   \n",
       "50%              2016-08-26 00:00:00  2.270000e+03          0.000000   \n",
       "75%              2017-06-16 00:00:00  3.125000e+03          0.000000   \n",
       "max              2017-12-31 00:00:00  4.219500e+07      70388.000000   \n",
       "std                              NaN  3.166649e+05        633.300903   \n",
       "\n",
       "       flat_on_floor     floor_num  ...  area_kitchen    builder_id  \\\n",
       "count   71761.000000  71755.000000  ...  71758.000000  71761.000000   \n",
       "mean        0.213013      5.002341  ...      3.890242     20.567174   \n",
       "min         0.000000      0.000000  ...      0.000000      0.000000   \n",
       "25%         0.000000      2.000000  ...      0.000000      0.000000   \n",
       "50%         0.000000      4.000000  ...      0.000000      0.000000   \n",
       "75%         0.000000      7.000000  ...      8.000000      0.000000   \n",
       "max       309.000000     27.000000  ...    101.100000   3597.000000   \n",
       "std         2.785098      3.593269  ...      5.231731    168.303157   \n",
       "\n",
       "       levels_count  bathrooms_cnt     series_id       wall_id   loggia  \\\n",
       "count  71761.000000   40630.000000  71560.000000  71755.000000  71761.0   \n",
       "mean       0.987389       1.836303    385.921940     24.482893      0.0   \n",
       "min        0.000000       0.000000      0.000000      0.000000      0.0   \n",
       "25%        1.000000       2.000000     44.000000     11.000000      0.0   \n",
       "50%        1.000000       2.000000     49.000000     12.000000      0.0   \n",
       "75%        1.000000       2.000000    149.000000     12.000000      0.0   \n",
       "max        3.000000       4.000000   2341.000000    412.000000      0.0   \n",
       "std        0.119082       0.594474    608.829097     45.066015      0.0   \n",
       "\n",
       "       ceiling_height     longitude      latitude  \n",
       "count    71761.000000  65190.000000  65190.000000  \n",
       "mean         1.728359     67.655915     56.096918  \n",
       "min          0.000000      0.000000      0.000000  \n",
       "25%          0.000000     60.581003     55.022510  \n",
       "50%          2.500000     65.594948     57.105932  \n",
       "75%          2.500000     73.409263     57.192562  \n",
       "max       2500.000000    634.226370    633.813000  \n",
       "std          9.895911     20.057081      7.577124  \n",
       "\n",
       "[8 rows x 26 columns]"
      ]
     },
     "execution_count": 4,
     "metadata": {},
     "output_type": "execute_result"
    }
   ],
   "source": [
    "dataset.describe()"
   ]
  },
  {
   "cell_type": "code",
   "execution_count": 5,
   "id": "1a6b4fcf-b9d8-42a0-98c1-b53cfc6c502c",
   "metadata": {},
   "outputs": [],
   "source": [
    "# dataset.dtypes"
   ]
  },
  {
   "cell_type": "code",
   "execution_count": 6,
   "id": "f680ef41-420b-49cc-9aaa-702c4b915ee3",
   "metadata": {},
   "outputs": [
    {
     "data": {
      "text/plain": [
       "<Axes: >"
      ]
     },
     "execution_count": 6,
     "metadata": {},
     "output_type": "execute_result"
    },
    {
     "data": {
      "image/png": "[encoded data removed]",
      "text/plain": [
       "<Figure size 640x480 with 2 Axes>"
      ]
     },
     "metadata": {},
     "output_type": "display_data"
    }
   ],
   "source": [
    "colours = ['#000099', '#ffff00'] \n",
    "sns.heatmap(dataset[dataset.columns].isnull(), cmap=sns.color_palette(colours))"
   ]
  },
  {
   "cell_type": "code",
   "execution_count": 7,
   "id": "4aee2488-70e0-449a-8f76-85a2e8303926",
   "metadata": {},
   "outputs": [
    {
     "data": {
      "text/plain": [
       "<Axes: >"
      ]
     },
     "execution_count": 7,
     "metadata": {},
     "output_type": "execute_result"
    },
    {
     "data": {
      "image/png": "[encoded data removed]",
      "text/plain": [
       "<Figure size 640x480 with 1 Axes>"
      ]
     },
     "metadata": {},
     "output_type": "display_data"
    }
   ],
   "source": [
    "dataset.boxplot(column=['price', 'sold_price'])"
   ]
  },
  {
   "cell_type": "code",
   "execution_count": 8,
   "id": "f59e97bd-2118-4be3-8a35-48d0b97d5d5d",
   "metadata": {},
   "outputs": [],
   "source": [
    "# dataset = dataset.fillna(method='ffill')\n",
    "# dataset.isnull().any()"
   ]
  },
  {
   "cell_type": "code",
   "execution_count": 9,
   "id": "76fffa4c-646e-493d-a278-81bfa5c60efb",
   "metadata": {},
   "outputs": [],
   "source": [
    "# dataset['price'] = dataset['price'].fillna(dataset['price'].mean())\n",
    "# dataset['price'].isnull().any()"
   ]
  },
  {
   "cell_type": "code",
   "execution_count": 10,
   "id": "abab2bdc-16ab-4c2a-a08f-5de5fe209c12",
   "metadata": {},
   "outputs": [
    {
     "data": {
      "text/plain": [
       "False"
      ]
     },
     "execution_count": 10,
     "metadata": {},
     "output_type": "execute_result"
    }
   ],
   "source": [
    "# dataset['sold_price'] = dataset['sold_price'].fillna(dataset['price'])\n",
    "dataset = dataset.dropna(subset=['sold_price', 'price'])\n",
    "dataset['sold_price'].isnull().any()"
   ]
  },
  {
   "cell_type": "code",
   "execution_count": 11,
   "id": "0b8d6fdc-374e-4830-b916-04ecd691ee6d",
   "metadata": {},
   "outputs": [
    {
     "data": {
      "text/plain": [
       "<Axes: >"
      ]
     },
     "execution_count": 11,
     "metadata": {},
     "output_type": "execute_result"
    },
    {
     "data": {
      "image/png": "[encoded data removed]",
      "text/plain": [
       "<Figure size 640x480 with 1 Axes>"
      ]
     },
     "metadata": {},
     "output_type": "display_data"
    }
   ],
   "source": [
    "dataset.boxplot(column=['price', 'sold_price'])"
   ]
  },
  {
   "cell_type": "code",
   "execution_count": 12,
   "id": "784ba3aa-07c6-44a9-b766-5bfcfdca4b06",
   "metadata": {},
   "outputs": [
    {
     "data": {
      "text/plain": [
       "<Axes: >"
      ]
     },
     "execution_count": 12,
     "metadata": {},
     "output_type": "execute_result"
    },
    {
     "data": {
      "image/png": "[encoded data removed]",
      "text/plain": [
       "<Figure size 640x480 with 1 Axes>"
      ]
     },
     "metadata": {},
     "output_type": "display_data"
    }
   ],
   "source": [
    "sold_price_q = dataset['sold_price'].quantile(0.99)\n",
    "price_q = dataset['price'].quantile(0.99)\n",
    "dataset = dataset[dataset['sold_price'] < sold_price_q]\n",
    "dataset = dataset[dataset['price'] < price_q]\n",
    "dataset.boxplot(column=['price', 'sold_price'])"
   ]
  },
  {
   "cell_type": "code",
   "execution_count": 13,
   "id": "cb5ba7f4-fcbc-49a9-a479-5f4ae2e85c82",
   "metadata": {},
   "outputs": [
    {
     "data": {
      "text/plain": [
       "False"
      ]
     },
     "execution_count": 13,
     "metadata": {},
     "output_type": "execute_result"
    }
   ],
   "source": [
    "dataset['area_total'] = dataset['area_total'].fillna(dataset['area_total'].mean())\n",
    "dataset['area_total'].isnull().any()"
   ]
  },
  {
   "cell_type": "code",
   "execution_count": 14,
   "id": "93f36f64-74c6-4271-9ada-c27553ab4506",
   "metadata": {},
   "outputs": [
    {
     "data": {
      "text/plain": [
       "False"
      ]
     },
     "execution_count": 14,
     "metadata": {},
     "output_type": "execute_result"
    }
   ],
   "source": [
    "dataset['floor_num'] = dataset['floor_num'].fillna(dataset['floor_num'].mean())\n",
    "dataset['floor_num'].isnull().any()"
   ]
  },
  {
   "cell_type": "code",
   "execution_count": 15,
   "id": "306aad08-330a-4240-831b-31f7335510af",
   "metadata": {},
   "outputs": [
    {
     "data": {
      "text/plain": [
       "False"
      ]
     },
     "execution_count": 15,
     "metadata": {},
     "output_type": "execute_result"
    }
   ],
   "source": [
    "dataset['rooms_cnt'] = dataset['rooms_cnt'].fillna(dataset['rooms_cnt'].mean())\n",
    "dataset['rooms_cnt'].isnull().any()"
   ]
  },
  {
   "cell_type": "code",
   "execution_count": 16,
   "id": "765e6361-36f0-4f60-b637-539f7d9252ed",
   "metadata": {},
   "outputs": [],
   "source": [
    "X = dataset[\n",
    "        ['city_id', 'district_id', 'street_id', 'price', 'area_total', 'floor_num', 'rooms_cnt']\n",
    "    ]\n",
    "Y = dataset['sold_price']"
   ]
  },
  {
   "cell_type": "code",
   "execution_count": 17,
   "id": "2bef5b44-50f2-44f7-b780-c5bd94cae1d0",
   "metadata": {},
   "outputs": [],
   "source": [
    "# plt.figure(figsize=(15,10))\n",
    "# plt.tight_layout()\n",
    "# sns.displot(dataset['sold_price'])"
   ]
  },
  {
   "cell_type": "code",
   "execution_count": 18,
   "id": "5e244588-21f0-4768-8b37-5be67f4d3894",
   "metadata": {},
   "outputs": [],
   "source": [
    "X_train, X_test, Y_train, Y_test = train_test_split(X.values, Y.values, test_size=0.2, random_state=0)"
   ]
  },
  {
   "cell_type": "code",
   "execution_count": 19,
   "id": "201ac4ca-9ea8-4200-918b-c14787c4ed24",
   "metadata": {},
   "outputs": [
    {
     "data": {
      "text/html": [
       "<style>#sk-container-id-1 {color: black;}#sk-container-id-1 pre{padding: 0;}#sk-container-id-1 div.sk-toggleable {background-color: white;}#sk-container-id-1 label.sk-toggleable__label {cursor: pointer;display: block;width: 100%;margin-bottom: 0;padding: 0.3em;box-sizing: border-box;text-align: center;}#sk-container-id-1 label.sk-toggleable__label-arrow:before {content: \"▸\";float: left;margin-right: 0.25em;color: #696969;}#sk-container-id-1 label.sk-toggleable__label-arrow:hover:before {color: black;}#sk-container-id-1 div.sk-estimator:hover label.sk-toggleable__label-arrow:before {color: black;}#sk-container-id-1 div.sk-toggleable__content {max-height: 0;max-width: 0;overflow: hidden;text-align: left;background-color: #f0f8ff;}#sk-container-id-1 div.sk-toggleable__content pre {margin: 0.2em;color: black;border-radius: 0.25em;background-color: #f0f8ff;}#sk-container-id-1 input.sk-toggleable__control:checked~div.sk-toggleable__content {max-height: 200px;max-width: 100%;overflow: auto;}#sk-container-id-1 input.sk-toggleable__control:checked~label.sk-toggleable__label-arrow:before {content: \"▾\";}#sk-container-id-1 div.sk-estimator input.sk-toggleable__control:checked~label.sk-toggleable__label {background-color: #d4ebff;}#sk-container-id-1 div.sk-label input.sk-toggleable__control:checked~label.sk-toggleable__label {background-color: #d4ebff;}#sk-container-id-1 input.sk-hidden--visually {border: 0;clip: rect(1px 1px 1px 1px);clip: rect(1px, 1px, 1px, 1px);height: 1px;margin: -1px;overflow: hidden;padding: 0;position: absolute;width: 1px;}#sk-container-id-1 div.sk-estimator {font-family: monospace;background-color: #f0f8ff;border: 1px dotted black;border-radius: 0.25em;box-sizing: border-box;margin-bottom: 0.5em;}#sk-container-id-1 div.sk-estimator:hover {background-color: #d4ebff;}#sk-container-id-1 div.sk-parallel-item::after {content: \"\";width: 100%;border-bottom: 1px solid gray;flex-grow: 1;}#sk-container-id-1 div.sk-label:hover label.sk-toggleable__label {background-color: #d4ebff;}#sk-container-id-1 div.sk-serial::before {content: \"\";position: absolute;border-left: 1px solid gray;box-sizing: border-box;top: 0;bottom: 0;left: 50%;z-index: 0;}#sk-container-id-1 div.sk-serial {display: flex;flex-direction: column;align-items: center;background-color: white;padding-right: 0.2em;padding-left: 0.2em;position: relative;}#sk-container-id-1 div.sk-item {position: relative;z-index: 1;}#sk-container-id-1 div.sk-parallel {display: flex;align-items: stretch;justify-content: center;background-color: white;position: relative;}#sk-container-id-1 div.sk-item::before, #sk-container-id-1 div.sk-parallel-item::before {content: \"\";position: absolute;border-left: 1px solid gray;box-sizing: border-box;top: 0;bottom: 0;left: 50%;z-index: -1;}#sk-container-id-1 div.sk-parallel-item {display: flex;flex-direction: column;z-index: 1;position: relative;background-color: white;}#sk-container-id-1 div.sk-parallel-item:first-child::after {align-self: flex-end;width: 50%;}#sk-container-id-1 div.sk-parallel-item:last-child::after {align-self: flex-start;width: 50%;}#sk-container-id-1 div.sk-parallel-item:only-child::after {width: 0;}#sk-container-id-1 div.sk-dashed-wrapped {border: 1px dashed gray;margin: 0 0.4em 0.5em 0.4em;box-sizing: border-box;padding-bottom: 0.4em;background-color: white;}#sk-container-id-1 div.sk-label label {font-family: monospace;font-weight: bold;display: inline-block;line-height: 1.2em;}#sk-container-id-1 div.sk-label-container {text-align: center;}#sk-container-id-1 div.sk-container {/* jupyter's `normalize.less` sets `[hidden] { display: none; }` but bootstrap.min.css set `[hidden] { display: none !important; }` so we also need the `!important` here to be able to override the default hidden behavior on the sphinx rendered scikit-learn.org. See: https://github.com/scikit-learn/scikit-learn/issues/21755 */display: inline-block !important;position: relative;}#sk-container-id-1 div.sk-text-repr-fallback {display: none;}</style><div id=\"sk-container-id-1\" class=\"sk-top-container\"><div class=\"sk-text-repr-fallback\"><pre>LinearRegression()</pre><b>In a Jupyter environment, please rerun this cell to show the HTML representation or trust the notebook. <br />On GitHub, the HTML representation is unable to render, please try loading this page with nbviewer.org.</b></div><div class=\"sk-container\" hidden><div class=\"sk-item\"><div class=\"sk-estimator sk-toggleable\"><input class=\"sk-toggleable__control sk-hidden--visually\" id=\"sk-estimator-id-1\" type=\"checkbox\" checked><label for=\"sk-estimator-id-1\" class=\"sk-toggleable__label sk-toggleable__label-arrow\">LinearRegression</label><div class=\"sk-toggleable__content\"><pre>LinearRegression()</pre></div></div></div></div></div>"
      ],
      "text/plain": [
       "LinearRegression()"
      ]
     },
     "execution_count": 19,
     "metadata": {},
     "output_type": "execute_result"
    }
   ],
   "source": [
    "regressor = LinearRegression()\n",
    "regressor.fit(X_train, Y_train)"
   ]
  },
  {
   "cell_type": "code",
   "execution_count": 20,
   "id": "b5ae3760-4bd5-42a2-a3e9-dcc523cfe52c",
   "metadata": {},
   "outputs": [
    {
     "data": {
      "text/html": [
       "<div>\n",
       "<style scoped>\n",
       "    .dataframe tbody tr th:only-of-type {\n",
       "        vertical-align: middle;\n",
       "    }\n",
       "\n",
       "    .dataframe tbody tr th {\n",
       "        vertical-align: top;\n",
       "    }\n",
       "\n",
       "    .dataframe thead th {\n",
       "        text-align: right;\n",
       "    }\n",
       "</style>\n",
       "<table border=\"1\" class=\"dataframe\">\n",
       "  <thead>\n",
       "    <tr style=\"text-align: right;\">\n",
       "      <th></th>\n",
       "      <th>Coefficient</th>\n",
       "    </tr>\n",
       "  </thead>\n",
       "  <tbody>\n",
       "    <tr>\n",
       "      <th>city_id</th>\n",
       "      <td>0.067161</td>\n",
       "    </tr>\n",
       "    <tr>\n",
       "      <th>district_id</th>\n",
       "      <td>-0.000564</td>\n",
       "    </tr>\n",
       "    <tr>\n",
       "      <th>street_id</th>\n",
       "      <td>0.000002</td>\n",
       "    </tr>\n",
       "    <tr>\n",
       "      <th>price</th>\n",
       "      <td>0.956345</td>\n",
       "    </tr>\n",
       "    <tr>\n",
       "      <th>area_total</th>\n",
       "      <td>0.552409</td>\n",
       "    </tr>\n",
       "    <tr>\n",
       "      <th>floor_num</th>\n",
       "      <td>3.441739</td>\n",
       "    </tr>\n",
       "    <tr>\n",
       "      <th>rooms_cnt</th>\n",
       "      <td>2.324211</td>\n",
       "    </tr>\n",
       "  </tbody>\n",
       "</table>\n",
       "</div>"
      ],
      "text/plain": [
       "             Coefficient\n",
       "city_id         0.067161\n",
       "district_id    -0.000564\n",
       "street_id       0.000002\n",
       "price           0.956345\n",
       "area_total      0.552409\n",
       "floor_num       3.441739\n",
       "rooms_cnt       2.324211"
      ]
     },
     "execution_count": 20,
     "metadata": {},
     "output_type": "execute_result"
    }
   ],
   "source": [
    "coeff_df = pd.DataFrame(regressor.coef_, X.columns, columns=['Coefficient'])  \n",
    "coeff_df"
   ]
  },
  {
   "cell_type": "code",
   "execution_count": 21,
   "id": "d2846e98-7dac-45bd-bcad-13089b2036eb",
   "metadata": {},
   "outputs": [],
   "source": [
    "Y_pred = regressor.predict(X_test)"
   ]
  },
  {
   "cell_type": "code",
   "execution_count": 26,
   "id": "db25ca85-680d-4e65-92ff-f344e9aeb3fb",
   "metadata": {},
   "outputs": [
    {
     "data": {
      "text/html": [
       "<div>\n",
       "<style scoped>\n",
       "    .dataframe tbody tr th:only-of-type {\n",
       "        vertical-align: middle;\n",
       "    }\n",
       "\n",
       "    .dataframe tbody tr th {\n",
       "        vertical-align: top;\n",
       "    }\n",
       "\n",
       "    .dataframe thead th {\n",
       "        text-align: right;\n",
       "    }\n",
       "</style>\n",
       "<table border=\"1\" class=\"dataframe\">\n",
       "  <thead>\n",
       "    <tr style=\"text-align: right;\">\n",
       "      <th></th>\n",
       "      <th>Actual</th>\n",
       "      <th>Predicted</th>\n",
       "    </tr>\n",
       "  </thead>\n",
       "  <tbody>\n",
       "    <tr>\n",
       "      <th>0</th>\n",
       "      <td>1320.0</td>\n",
       "      <td>1324.225223</td>\n",
       "    </tr>\n",
       "    <tr>\n",
       "      <th>1</th>\n",
       "      <td>1050.0</td>\n",
       "      <td>1101.132199</td>\n",
       "    </tr>\n",
       "    <tr>\n",
       "      <th>2</th>\n",
       "      <td>6000.0</td>\n",
       "      <td>5818.752336</td>\n",
       "    </tr>\n",
       "    <tr>\n",
       "      <th>3</th>\n",
       "      <td>3500.0</td>\n",
       "      <td>3398.178056</td>\n",
       "    </tr>\n",
       "    <tr>\n",
       "      <th>4</th>\n",
       "      <td>4300.0</td>\n",
       "      <td>4356.889368</td>\n",
       "    </tr>\n",
       "    <tr>\n",
       "      <th>5</th>\n",
       "      <td>3200.0</td>\n",
       "      <td>3110.002981</td>\n",
       "    </tr>\n",
       "    <tr>\n",
       "      <th>6</th>\n",
       "      <td>2050.0</td>\n",
       "      <td>2004.714189</td>\n",
       "    </tr>\n",
       "    <tr>\n",
       "      <th>7</th>\n",
       "      <td>4580.0</td>\n",
       "      <td>4591.643809</td>\n",
       "    </tr>\n",
       "    <tr>\n",
       "      <th>8</th>\n",
       "      <td>3450.0</td>\n",
       "      <td>3429.169214</td>\n",
       "    </tr>\n",
       "    <tr>\n",
       "      <th>9</th>\n",
       "      <td>720.0</td>\n",
       "      <td>746.261875</td>\n",
       "    </tr>\n",
       "    <tr>\n",
       "      <th>10</th>\n",
       "      <td>2300.0</td>\n",
       "      <td>2351.390916</td>\n",
       "    </tr>\n",
       "    <tr>\n",
       "      <th>11</th>\n",
       "      <td>1900.0</td>\n",
       "      <td>1900.292438</td>\n",
       "    </tr>\n",
       "    <tr>\n",
       "      <th>12</th>\n",
       "      <td>2300.0</td>\n",
       "      <td>2236.688739</td>\n",
       "    </tr>\n",
       "    <tr>\n",
       "      <th>13</th>\n",
       "      <td>1480.0</td>\n",
       "      <td>1485.744339</td>\n",
       "    </tr>\n",
       "    <tr>\n",
       "      <th>14</th>\n",
       "      <td>750.0</td>\n",
       "      <td>743.061300</td>\n",
       "    </tr>\n",
       "    <tr>\n",
       "      <th>15</th>\n",
       "      <td>2390.0</td>\n",
       "      <td>2368.350602</td>\n",
       "    </tr>\n",
       "    <tr>\n",
       "      <th>16</th>\n",
       "      <td>2650.0</td>\n",
       "      <td>2620.936808</td>\n",
       "    </tr>\n",
       "    <tr>\n",
       "      <th>17</th>\n",
       "      <td>2750.0</td>\n",
       "      <td>2639.461830</td>\n",
       "    </tr>\n",
       "    <tr>\n",
       "      <th>18</th>\n",
       "      <td>2100.0</td>\n",
       "      <td>2053.581019</td>\n",
       "    </tr>\n",
       "    <tr>\n",
       "      <th>19</th>\n",
       "      <td>18800.0</td>\n",
       "      <td>18241.943094</td>\n",
       "    </tr>\n",
       "    <tr>\n",
       "      <th>20</th>\n",
       "      <td>1500.0</td>\n",
       "      <td>1941.785062</td>\n",
       "    </tr>\n",
       "    <tr>\n",
       "      <th>21</th>\n",
       "      <td>1900.0</td>\n",
       "      <td>2016.783943</td>\n",
       "    </tr>\n",
       "    <tr>\n",
       "      <th>22</th>\n",
       "      <td>1700.0</td>\n",
       "      <td>1760.922643</td>\n",
       "    </tr>\n",
       "    <tr>\n",
       "      <th>23</th>\n",
       "      <td>3250.0</td>\n",
       "      <td>3159.346963</td>\n",
       "    </tr>\n",
       "    <tr>\n",
       "      <th>24</th>\n",
       "      <td>2945.0</td>\n",
       "      <td>2871.797715</td>\n",
       "    </tr>\n",
       "    <tr>\n",
       "      <th>25</th>\n",
       "      <td>1290.0</td>\n",
       "      <td>1292.369879</td>\n",
       "    </tr>\n",
       "    <tr>\n",
       "      <th>26</th>\n",
       "      <td>3800.0</td>\n",
       "      <td>3764.858400</td>\n",
       "    </tr>\n",
       "    <tr>\n",
       "      <th>27</th>\n",
       "      <td>1350.0</td>\n",
       "      <td>1778.503501</td>\n",
       "    </tr>\n",
       "    <tr>\n",
       "      <th>28</th>\n",
       "      <td>1000.0</td>\n",
       "      <td>1375.784230</td>\n",
       "    </tr>\n",
       "    <tr>\n",
       "      <th>29</th>\n",
       "      <td>1650.0</td>\n",
       "      <td>1672.705868</td>\n",
       "    </tr>\n",
       "    <tr>\n",
       "      <th>30</th>\n",
       "      <td>1800.0</td>\n",
       "      <td>2180.600132</td>\n",
       "    </tr>\n",
       "    <tr>\n",
       "      <th>31</th>\n",
       "      <td>2100.0</td>\n",
       "      <td>2043.971080</td>\n",
       "    </tr>\n",
       "    <tr>\n",
       "      <th>32</th>\n",
       "      <td>1900.0</td>\n",
       "      <td>1859.391232</td>\n",
       "    </tr>\n",
       "    <tr>\n",
       "      <th>33</th>\n",
       "      <td>4250.0</td>\n",
       "      <td>4161.095856</td>\n",
       "    </tr>\n",
       "    <tr>\n",
       "      <th>34</th>\n",
       "      <td>1300.0</td>\n",
       "      <td>1295.255488</td>\n",
       "    </tr>\n",
       "    <tr>\n",
       "      <th>35</th>\n",
       "      <td>3250.0</td>\n",
       "      <td>3192.561826</td>\n",
       "    </tr>\n",
       "    <tr>\n",
       "      <th>36</th>\n",
       "      <td>3170.0</td>\n",
       "      <td>3115.371408</td>\n",
       "    </tr>\n",
       "    <tr>\n",
       "      <th>37</th>\n",
       "      <td>2353.0</td>\n",
       "      <td>2256.073617</td>\n",
       "    </tr>\n",
       "    <tr>\n",
       "      <th>38</th>\n",
       "      <td>2460.0</td>\n",
       "      <td>2449.191039</td>\n",
       "    </tr>\n",
       "    <tr>\n",
       "      <th>39</th>\n",
       "      <td>1900.0</td>\n",
       "      <td>1933.230716</td>\n",
       "    </tr>\n",
       "    <tr>\n",
       "      <th>40</th>\n",
       "      <td>3500.0</td>\n",
       "      <td>3396.501406</td>\n",
       "    </tr>\n",
       "    <tr>\n",
       "      <th>41</th>\n",
       "      <td>2200.0</td>\n",
       "      <td>2146.653527</td>\n",
       "    </tr>\n",
       "    <tr>\n",
       "      <th>42</th>\n",
       "      <td>2590.0</td>\n",
       "      <td>2530.733571</td>\n",
       "    </tr>\n",
       "    <tr>\n",
       "      <th>43</th>\n",
       "      <td>1200.0</td>\n",
       "      <td>1199.167437</td>\n",
       "    </tr>\n",
       "    <tr>\n",
       "      <th>44</th>\n",
       "      <td>3400.0</td>\n",
       "      <td>3377.585295</td>\n",
       "    </tr>\n",
       "    <tr>\n",
       "      <th>45</th>\n",
       "      <td>2200.0</td>\n",
       "      <td>2145.583523</td>\n",
       "    </tr>\n",
       "    <tr>\n",
       "      <th>46</th>\n",
       "      <td>4525.0</td>\n",
       "      <td>4484.221480</td>\n",
       "    </tr>\n",
       "    <tr>\n",
       "      <th>47</th>\n",
       "      <td>2200.0</td>\n",
       "      <td>2241.635845</td>\n",
       "    </tr>\n",
       "    <tr>\n",
       "      <th>48</th>\n",
       "      <td>2650.0</td>\n",
       "      <td>2589.020732</td>\n",
       "    </tr>\n",
       "    <tr>\n",
       "      <th>49</th>\n",
       "      <td>2950.0</td>\n",
       "      <td>2912.430458</td>\n",
       "    </tr>\n",
       "  </tbody>\n",
       "</table>\n",
       "</div>"
      ],
      "text/plain": [
       "     Actual     Predicted\n",
       "0    1320.0   1324.225223\n",
       "1    1050.0   1101.132199\n",
       "2    6000.0   5818.752336\n",
       "3    3500.0   3398.178056\n",
       "4    4300.0   4356.889368\n",
       "5    3200.0   3110.002981\n",
       "6    2050.0   2004.714189\n",
       "7    4580.0   4591.643809\n",
       "8    3450.0   3429.169214\n",
       "9     720.0    746.261875\n",
       "10   2300.0   2351.390916\n",
       "11   1900.0   1900.292438\n",
       "12   2300.0   2236.688739\n",
       "13   1480.0   1485.744339\n",
       "14    750.0    743.061300\n",
       "15   2390.0   2368.350602\n",
       "16   2650.0   2620.936808\n",
       "17   2750.0   2639.461830\n",
       "18   2100.0   2053.581019\n",
       "19  18800.0  18241.943094\n",
       "20   1500.0   1941.785062\n",
       "21   1900.0   2016.783943\n",
       "22   1700.0   1760.922643\n",
       "23   3250.0   3159.346963\n",
       "24   2945.0   2871.797715\n",
       "25   1290.0   1292.369879\n",
       "26   3800.0   3764.858400\n",
       "27   1350.0   1778.503501\n",
       "28   1000.0   1375.784230\n",
       "29   1650.0   1672.705868\n",
       "30   1800.0   2180.600132\n",
       "31   2100.0   2043.971080\n",
       "32   1900.0   1859.391232\n",
       "33   4250.0   4161.095856\n",
       "34   1300.0   1295.255488\n",
       "35   3250.0   3192.561826\n",
       "36   3170.0   3115.371408\n",
       "37   2353.0   2256.073617\n",
       "38   2460.0   2449.191039\n",
       "39   1900.0   1933.230716\n",
       "40   3500.0   3396.501406\n",
       "41   2200.0   2146.653527\n",
       "42   2590.0   2530.733571\n",
       "43   1200.0   1199.167437\n",
       "44   3400.0   3377.585295\n",
       "45   2200.0   2145.583523\n",
       "46   4525.0   4484.221480\n",
       "47   2200.0   2241.635845\n",
       "48   2650.0   2589.020732\n",
       "49   2950.0   2912.430458"
      ]
     },
     "execution_count": 26,
     "metadata": {},
     "output_type": "execute_result"
    }
   ],
   "source": [
    "df = pd.DataFrame({'Actual': Y_test, 'Predicted': Y_pred})\n",
    "df1 = df.head(50)\n",
    "df1"
   ]
  },
  {
   "cell_type": "code",
   "execution_count": 28,
   "id": "8980d7b7-80c0-4cb1-8383-30d80f0cd30c",
   "metadata": {},
   "outputs": [
    {
     "data": {
      "image/png": "[encoded data removed]",
      "text/plain": [
       "<Figure size 2000x800 with 1 Axes>"
      ]
     },
     "metadata": {},
     "output_type": "display_data"
    }
   ],
   "source": [
    "df1.plot(kind='bar',figsize=(20,8))\n",
    "plt.grid(which='major', linestyle='-', linewidth='0.5', color='green')\n",
    "plt.grid(which='minor', linestyle=':', linewidth='0.5', color='black')\n",
    "plt.show()"
   ]
  },
  {
   "cell_type": "code",
   "execution_count": null,
   "id": "d8d47b43-c91e-446c-b1ec-9aad0a7dd505",
   "metadata": {},
   "outputs": [],
   "source": []
  }
 ],
 "metadata": {
  "kernelspec": {
   "display_name": "Python 3 (ipykernel)",
   "language": "python",
   "name": "python3"
  },
  "language_info": {
   "codemirror_mode": {
    "name": "ipython",
    "version": 3
   },
   "file_extension": ".py",
   "mimetype": "text/x-python",
   "name": "python",
   "nbconvert_exporter": "python",
   "pygments_lexer": "ipython3",
   "version": "3.11.5"
  }
 },
 "nbformat": 4,
 "nbformat_minor": 5
}
